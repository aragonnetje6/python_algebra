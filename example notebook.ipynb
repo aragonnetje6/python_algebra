{
 "cells": [
  {
   "cell_type": "code",
   "execution_count": 1,
   "metadata": {},
   "outputs": [],
   "source": [
    "from math_tree import *"
   ]
  },
  {
   "cell_type": "code",
   "execution_count": 2,
   "metadata": {},
   "outputs": [
    {
     "name": "stdout",
     "output_type": "stream",
     "text": [
      "0 + 4 * x ** 0 + 3 * x ** 1 + 2 * x ** 2 + 1 * x ** 3 + 0 * x ** 4 + -1 * x ** 5 + -2 * x ** 6 + -3 * x ** 7 + -4 * x ** 8\n",
      "4 + 3 * x + 2 * x ** 2 + x ** 3 + -1 * x ** 5 + -2 * x ** 6 + -3 * x ** 7 + -4 * x ** 8\n"
     ]
    }
   ],
   "source": [
    "x = Variable('x')\n",
    "y = Variable('y')\n",
    "z = Variable('z')\n",
    "expr = sum((4-i)*(x**i) for i in range(9))\n",
    "print(expr)\n",
    "print(simple := expr.simplify())"
   ]
  },
  {
   "cell_type": "code",
   "execution_count": 3,
   "metadata": {},
   "outputs": [
    {
     "data": {
      "text/html": [
       "<math xmlns = \"http://www.w3.org/1998/Math/MathML\" id = \"expr\"><mrow><mrow><mrow><mrow><mrow><mrow><mrow><mrow><mrow><mrow><mn>0</mn></mrow><mo>+</mo><mrow><mrow><mn>4</mn></mrow><mo>*</mo><mrow><msup><mrow><mi>x</mi></mrow><mrow><mn>0</mn></mrow></msup></mrow></mrow></mrow><mo>+</mo><mrow><mrow><mn>3</mn></mrow><mo>*</mo><mrow><msup><mrow><mi>x</mi></mrow><mrow><mn>1</mn></mrow></msup></mrow></mrow></mrow><mo>+</mo><mrow><mrow><mn>2</mn></mrow><mo>*</mo><mrow><msup><mrow><mi>x</mi></mrow><mrow><mn>2</mn></mrow></msup></mrow></mrow></mrow><mo>+</mo><mrow><mrow><mn>1</mn></mrow><mo>*</mo><mrow><msup><mrow><mi>x</mi></mrow><mrow><mn>3</mn></mrow></msup></mrow></mrow></mrow><mo>+</mo><mrow><mrow><mn>0</mn></mrow><mo>*</mo><mrow><msup><mrow><mi>x</mi></mrow><mrow><mn>4</mn></mrow></msup></mrow></mrow></mrow><mo>+</mo><mrow><mrow><mn>-1</mn></mrow><mo>*</mo><mrow><msup><mrow><mi>x</mi></mrow><mrow><mn>5</mn></mrow></msup></mrow></mrow></mrow><mo>+</mo><mrow><mrow><mn>-2</mn></mrow><mo>*</mo><mrow><msup><mrow><mi>x</mi></mrow><mrow><mn>6</mn></mrow></msup></mrow></mrow></mrow><mo>+</mo><mrow><mrow><mn>-3</mn></mrow><mo>*</mo><mrow><msup><mrow><mi>x</mi></mrow><mrow><mn>7</mn></mrow></msup></mrow></mrow></mrow><mo>+</mo><mrow><mrow><mn>-4</mn></mrow><mo>*</mo><mrow><msup><mrow><mi>x</mi></mrow><mrow><mn>8</mn></mrow></msup></mrow></mrow></mrow></math>"
      ]
     },
     "metadata": {},
     "output_type": "display_data"
    },
    {
     "data": {
      "text/html": [
       "<math xmlns = \"http://www.w3.org/1998/Math/MathML\" id = \"expr\"><mrow><mrow><mrow><mrow><mrow><mrow><mrow><mrow><mn>4</mn></mrow><mo>+</mo><mrow><mrow><mn>3</mn></mrow><mo>*</mo><mrow><mi>x</mi></mrow></mrow></mrow><mo>+</mo><mrow><mrow><mn>2</mn></mrow><mo>*</mo><mrow><msup><mrow><mi>x</mi></mrow><mrow><mn>2</mn></mrow></msup></mrow></mrow></mrow><mo>+</mo><mrow><msup><mrow><mi>x</mi></mrow><mrow><mn>3</mn></mrow></msup></mrow></mrow><mo>+</mo><mrow><mrow><mn>-1</mn></mrow><mo>*</mo><mrow><msup><mrow><mi>x</mi></mrow><mrow><mn>5</mn></mrow></msup></mrow></mrow></mrow><mo>+</mo><mrow><mrow><mn>-2</mn></mrow><mo>*</mo><mrow><msup><mrow><mi>x</mi></mrow><mrow><mn>6</mn></mrow></msup></mrow></mrow></mrow><mo>+</mo><mrow><mrow><mn>-3</mn></mrow><mo>*</mo><mrow><msup><mrow><mi>x</mi></mrow><mrow><mn>7</mn></mrow></msup></mrow></mrow></mrow><mo>+</mo><mrow><mrow><mn>-4</mn></mrow><mo>*</mo><mrow><msup><mrow><mi>x</mi></mrow><mrow><mn>8</mn></mrow></msup></mrow></mrow></mrow></math>"
      ]
     },
     "metadata": {},
     "output_type": "display_data"
    }
   ],
   "source": [
    "expr.display()\n",
    "simple.display()"
   ]
  },
  {
   "cell_type": "code",
   "execution_count": 4,
   "metadata": {},
   "outputs": [
    {
     "data": {
      "image/png": "[encoded data removed]",
      "text/plain": [
       "<Figure size 432x288 with 1 Axes>"
      ]
     },
     "metadata": {
      "needs_background": "light"
     },
     "output_type": "display_data"
    },
    {
     "data": {
      "image/png": "[encoded data removed]",
      "text/plain": [
       "<Figure size 432x288 with 1 Axes>"
      ]
     },
     "metadata": {
      "needs_background": "light"
     },
     "output_type": "display_data"
    }
   ],
   "source": [
    "expr.plot('x', 0, 10)\n",
    "simple.plot('x', 0, 10)"
   ]
  },
  {
   "cell_type": "markdown",
   "metadata": {},
   "source": [
    "# Mathematical law proofs"
   ]
  },
  {
   "cell_type": "code",
   "execution_count": 5,
   "metadata": {},
   "outputs": [
    {
     "name": "stdout",
     "output_type": "stream",
     "text": [
      "Commutativity of +: False\n",
      "Associativity of +: False\n",
      "Identity of +: False\n",
      "Negation of +: False\n",
      "Definition of -: False\n",
      "Commutativity of -: False\n",
      "Associativity of -: False\n",
      "Identity of -: False\n",
      "Definition of *: False\n",
      "Commutativity of *: False\n",
      "Associativity of *: False\n",
      "Distributivity of *: False\n",
      "Identity of *: False\n",
      "Annihilator of *: False\n",
      "Negation of *: False\n",
      "Definition of /: False\n",
      "Definition of ^: False\n",
      "Identity of ^: False\n",
      "Annihilator of ^: False\n",
      "Distributivity of ^ over +: False\n"
     ]
    },
    {
     "ename": "AssertionError",
     "evalue": "",
     "output_type": "error",
     "traceback": [
      "\u001b[1;31m---------------------------------------------------------------------------\u001b[0m",
      "\u001b[1;31mAssertionError\u001b[0m                            Traceback (most recent call last)",
      "\u001b[1;32m<ipython-input-5-4402249067f1>\u001b[0m in \u001b[0;36m<module>\u001b[1;34m\u001b[0m\n\u001b[0;32m     19\u001b[0m \u001b[0mprint\u001b[0m\u001b[1;33m(\u001b[0m\u001b[1;34m'Annihilator of ^:'\u001b[0m\u001b[1;33m,\u001b[0m \u001b[1;33m(\u001b[0m\u001b[0mx\u001b[0m \u001b[1;33m^\u001b[0m \u001b[1;36m0\u001b[0m \u001b[1;33m==\u001b[0m \u001b[1;36m1\u001b[0m\u001b[1;33m)\u001b[0m\u001b[1;33m.\u001b[0m\u001b[0mevaluate\u001b[0m\u001b[1;33m(\u001b[0m\u001b[1;33m)\u001b[0m\u001b[1;33m)\u001b[0m\u001b[1;33m\u001b[0m\u001b[1;33m\u001b[0m\u001b[0m\n\u001b[0;32m     20\u001b[0m \u001b[0mprint\u001b[0m\u001b[1;33m(\u001b[0m\u001b[1;34m'Distributivity of ^ over +:'\u001b[0m\u001b[1;33m,\u001b[0m \u001b[1;33m(\u001b[0m\u001b[1;33m(\u001b[0m\u001b[0mx\u001b[0m \u001b[1;33m+\u001b[0m \u001b[0my\u001b[0m\u001b[1;33m)\u001b[0m \u001b[1;33m^\u001b[0m \u001b[1;36m2\u001b[0m \u001b[1;33m==\u001b[0m \u001b[0mx\u001b[0m \u001b[1;33m^\u001b[0m \u001b[1;36m2\u001b[0m \u001b[1;33m+\u001b[0m \u001b[0my\u001b[0m \u001b[1;33m^\u001b[0m \u001b[1;36m2\u001b[0m \u001b[1;33m+\u001b[0m \u001b[1;36m2\u001b[0m \u001b[1;33m*\u001b[0m \u001b[0mx\u001b[0m \u001b[1;33m*\u001b[0m \u001b[0my\u001b[0m\u001b[1;33m)\u001b[0m\u001b[1;33m.\u001b[0m\u001b[0mevaluate\u001b[0m\u001b[1;33m(\u001b[0m\u001b[1;33m)\u001b[0m\u001b[1;33m)\u001b[0m\u001b[1;33m\u001b[0m\u001b[1;33m\u001b[0m\u001b[0m\n\u001b[1;32m---> 21\u001b[1;33m \u001b[0mprint\u001b[0m\u001b[1;33m(\u001b[0m\u001b[1;34m'Distributivity of ^ over *:'\u001b[0m\u001b[1;33m,\u001b[0m \u001b[1;33m(\u001b[0m\u001b[1;33m(\u001b[0m\u001b[0mx\u001b[0m \u001b[1;33m*\u001b[0m \u001b[0my\u001b[0m\u001b[1;33m)\u001b[0m \u001b[1;33m^\u001b[0m \u001b[0mz\u001b[0m \u001b[1;33m==\u001b[0m \u001b[0mx\u001b[0m \u001b[1;33m^\u001b[0m \u001b[0mz\u001b[0m \u001b[1;33m*\u001b[0m \u001b[0my\u001b[0m \u001b[1;33m^\u001b[0m \u001b[0mz\u001b[0m\u001b[1;33m)\u001b[0m\u001b[1;33m.\u001b[0m\u001b[0mevaluate\u001b[0m\u001b[1;33m(\u001b[0m\u001b[1;33m{\u001b[0m\u001b[1;34m'x'\u001b[0m\u001b[1;33m:\u001b[0m \u001b[1;34m'pos_num'\u001b[0m\u001b[1;33m,\u001b[0m \u001b[1;34m'y'\u001b[0m\u001b[1;33m:\u001b[0m \u001b[1;34m'pos_num'\u001b[0m\u001b[1;33m,\u001b[0m \u001b[1;34m'z'\u001b[0m\u001b[1;33m:\u001b[0m \u001b[1;34m'pos_num'\u001b[0m\u001b[1;33m}\u001b[0m\u001b[1;33m)\u001b[0m\u001b[1;33m)\u001b[0m\u001b[1;33m\u001b[0m\u001b[1;33m\u001b[0m\u001b[0m\n\u001b[0m\u001b[0;32m     22\u001b[0m \u001b[0mprint\u001b[0m\u001b[1;33m(\u001b[0m\u001b[1;34m'Definition of log:'\u001b[0m\u001b[1;33m,\u001b[0m \u001b[1;33m(\u001b[0m\u001b[0mLogarithm\u001b[0m\u001b[1;33m(\u001b[0m\u001b[0mx\u001b[0m \u001b[1;33m^\u001b[0m \u001b[0my\u001b[0m\u001b[1;33m,\u001b[0m \u001b[0mx\u001b[0m\u001b[1;33m)\u001b[0m \u001b[1;33m==\u001b[0m \u001b[0my\u001b[0m\u001b[1;33m)\u001b[0m\u001b[1;33m.\u001b[0m\u001b[0mevaluate\u001b[0m\u001b[1;33m(\u001b[0m\u001b[1;33m{\u001b[0m\u001b[1;34m'x'\u001b[0m\u001b[1;33m:\u001b[0m \u001b[1;34m'pos_num'\u001b[0m\u001b[1;33m,\u001b[0m \u001b[1;34m'y'\u001b[0m\u001b[1;33m:\u001b[0m \u001b[1;34m'pos_num'\u001b[0m\u001b[1;33m,\u001b[0m \u001b[1;34m'z'\u001b[0m\u001b[1;33m:\u001b[0m \u001b[1;34m'pos_num'\u001b[0m\u001b[1;33m}\u001b[0m\u001b[1;33m)\u001b[0m\u001b[1;33m)\u001b[0m\u001b[1;33m\u001b[0m\u001b[1;33m\u001b[0m\u001b[0m\n",
      "\u001b[1;32m~\\Documents\\Python\\python_algebra\\math_tree.py\u001b[0m in \u001b[0;36mevaluate\u001b[1;34m(self, var_dict, types)\u001b[0m\n\u001b[0;32m   1045\u001b[0m         \u001b[0msimple\u001b[0m \u001b[1;33m=\u001b[0m \u001b[0mself\u001b[0m\u001b[1;33m\u001b[0m\u001b[1;33m\u001b[0m\u001b[0m\n\u001b[0;32m   1046\u001b[0m         \u001b[1;32mfor\u001b[0m \u001b[0mvar\u001b[0m\u001b[1;33m,\u001b[0m \u001b[0mval\u001b[0m \u001b[1;32min\u001b[0m \u001b[0mvar_dict\u001b[0m\u001b[1;33m.\u001b[0m\u001b[0mitems\u001b[0m\u001b[1;33m(\u001b[0m\u001b[1;33m)\u001b[0m\u001b[1;33m:\u001b[0m\u001b[1;33m\u001b[0m\u001b[1;33m\u001b[0m\u001b[0m\n\u001b[1;32m-> 1047\u001b[1;33m             \u001b[0msimple\u001b[0m \u001b[1;33m=\u001b[0m \u001b[0msimple\u001b[0m\u001b[1;33m.\u001b[0m\u001b[0msubstitute\u001b[0m\u001b[1;33m(\u001b[0m\u001b[0mvar\u001b[0m\u001b[1;33m,\u001b[0m \u001b[0mConstant\u001b[0m\u001b[1;33m(\u001b[0m\u001b[0mval\u001b[0m\u001b[1;33m)\u001b[0m\u001b[1;33m)\u001b[0m\u001b[1;33m\u001b[0m\u001b[1;33m\u001b[0m\u001b[0m\n\u001b[0m\u001b[0;32m   1048\u001b[0m         \u001b[0mdependencies\u001b[0m \u001b[1;33m=\u001b[0m \u001b[0msimple\u001b[0m\u001b[1;33m.\u001b[0m\u001b[0mdependencies\u001b[0m\u001b[1;33m(\u001b[0m\u001b[1;33m)\u001b[0m\u001b[1;33m\u001b[0m\u001b[1;33m\u001b[0m\u001b[0m\n\u001b[0;32m   1049\u001b[0m         \u001b[1;32mif\u001b[0m \u001b[0mlen\u001b[0m\u001b[1;33m(\u001b[0m\u001b[0mdependencies\u001b[0m\u001b[1;33m)\u001b[0m \u001b[1;33m==\u001b[0m \u001b[1;36m0\u001b[0m\u001b[1;33m:\u001b[0m\u001b[1;33m\u001b[0m\u001b[1;33m\u001b[0m\u001b[0m\n",
      "\u001b[1;32m~\\Documents\\Python\\python_algebra\\math_tree.py\u001b[0m in \u001b[0;36m__init__\u001b[1;34m(self, value)\u001b[0m\n\u001b[0;32m    452\u001b[0m \u001b[1;33m\u001b[0m\u001b[0m\n\u001b[0;32m    453\u001b[0m     \u001b[1;32mdef\u001b[0m \u001b[0m__init__\u001b[0m\u001b[1;33m(\u001b[0m\u001b[0mself\u001b[0m\u001b[1;33m,\u001b[0m \u001b[0mvalue\u001b[0m\u001b[1;33m:\u001b[0m \u001b[0mUnion\u001b[0m\u001b[1;33m[\u001b[0m\u001b[0mNumber\u001b[0m\u001b[1;33m,\u001b[0m \u001b[0mbool\u001b[0m\u001b[1;33m]\u001b[0m\u001b[1;33m)\u001b[0m \u001b[1;33m->\u001b[0m \u001b[1;32mNone\u001b[0m\u001b[1;33m:\u001b[0m\u001b[1;33m\u001b[0m\u001b[1;33m\u001b[0m\u001b[0m\n\u001b[1;32m--> 454\u001b[1;33m         \u001b[1;32massert\u001b[0m \u001b[0misinstance\u001b[0m\u001b[1;33m(\u001b[0m\u001b[0mvalue\u001b[0m\u001b[1;33m,\u001b[0m \u001b[1;33m(\u001b[0m\u001b[0mint\u001b[0m\u001b[1;33m,\u001b[0m \u001b[0mfloat\u001b[0m\u001b[1;33m,\u001b[0m \u001b[0mbool\u001b[0m\u001b[1;33m)\u001b[0m\u001b[1;33m)\u001b[0m\u001b[1;33m\u001b[0m\u001b[1;33m\u001b[0m\u001b[0m\n\u001b[0m\u001b[0;32m    455\u001b[0m         \u001b[0msuper\u001b[0m\u001b[1;33m(\u001b[0m\u001b[1;33m)\u001b[0m\u001b[1;33m.\u001b[0m\u001b[0m__init__\u001b[0m\u001b[1;33m(\u001b[0m\u001b[0mvalue\u001b[0m\u001b[1;33m)\u001b[0m\u001b[1;33m\u001b[0m\u001b[1;33m\u001b[0m\u001b[0m\n\u001b[0;32m    456\u001b[0m \u001b[1;33m\u001b[0m\u001b[0m\n",
      "\u001b[1;31mAssertionError\u001b[0m: "
     ]
    }
   ],
   "source": [
    "print('Commutativity of +:', (x + y == y + x).evaluate())\n",
    "print('Associativity of +:', ((x + y) + z == x + (y + z)).evaluate())\n",
    "print('Identity of +:', (x + 0 == x).evaluate())\n",
    "print('Negation of +:', (x + -x == 0).evaluate())\n",
    "print('Definition of -:', (x + -y == x - y).evaluate())\n",
    "print('Commutativity of -:', (x - y == -(y - x)).evaluate())\n",
    "print('Associativity of -:', ((x - y) - z != x - (y - z)).evaluate())\n",
    "print('Identity of -:', (x - 0 == x).evaluate())\n",
    "print('Definition of *:', (x + x == x * 2).evaluate())\n",
    "print('Commutativity of *:', (x * y == y * x).evaluate())\n",
    "print('Associativity of *:', ((x * y) * z == x * (y * z)).evaluate())\n",
    "print('Distributivity of *:', (x * (y + z) == x * y + x * z).evaluate())\n",
    "print('Identity of *:', (x * 1 == x).evaluate())\n",
    "print('Annihilator of *:', (x * 0 == 0).evaluate())\n",
    "print('Negation of *:', (x * Invert(x) == 1).evaluate())\n",
    "print('Definition of /:', (x * Invert(y) == x / y).evaluate())\n",
    "print('Definition of ^:', (x * x == x ^ 2).evaluate())\n",
    "print('Identity of ^:', (x ^ 1 == x).evaluate())\n",
    "print('Annihilator of ^:', (x ^ 0 == 1).evaluate())\n",
    "print('Distributivity of ^ over +:', ((x + y) ^ 2 == x ^ 2 + y ^ 2 + 2 * x * y).evaluate())\n",
    "print('Distributivity of ^ over *:', ((x * y) ^ z == x ^ z * y ^ z).evaluate({'x': 'pos_num', 'y': 'pos_num', 'z': 'pos_num'}))\n",
    "print('Definition of log:', (Logarithm(x ^ y, x) == y).evaluate({'x': 'pos_num', 'y': 'pos_num', 'z': 'pos_num'}))\n"
   ]
  },
  {
   "cell_type": "markdown",
   "metadata": {},
   "source": [
    "# Boolean law proofs"
   ]
  },
  {
   "cell_type": "code",
   "execution_count": null,
   "metadata": {},
   "outputs": [],
   "source": [
    "types={'x': 'bool', 'y': 'bool', 'z': 'bool'}\n",
    "print('Associativity of ∨:', (x | (y | z) == (x | y) | z).evaluate(types=types))\n",
    "print('Associativity of ∧:', (x & (y & z) == (x & y) & z).evaluate(types=types))\n",
    "print('Commutativity of ∨:', (x | y == y | x).evaluate(types=types))\n",
    "print('Commutativity of ∧:', (x & y == y & x).evaluate(types=types))\n",
    "print('Distributivity of ∨ over ∧:', (x | (y & z) == (x | y) & (x | z)).evaluate(types=types))\n",
    "print('Distributivity of ∧ over ∨:', (x & (y | z) == (x & y) | (x & z)).evaluate(types=types))\n",
    "print('Identity for ∨:', (x | 0 == x).evaluate(types=types))\n",
    "print('Identity for ∧:', (x & 1 == x).evaluate(types=types))\n",
    "print('Annihilator for ∨:', (x | 1 == 1).evaluate(types=types))\n",
    "print('Annihilator for ∧:', (x & 0 == 0).evaluate(types=types))\n",
    "print('Idempotence of ∨:', (x & x == x).evaluate(types=types))\n",
    "print('Idempotence of ∧:', (x | x == x).evaluate(types=types))\n",
    "print('Absorption 1:', (x & (x | y) == x).evaluate(types=types))\n",
    "print('Absorption 2:', (x | (x & y) == x).evaluate(types=types))\n",
    "print('Complementation 1:', (x & ~x == False).evaluate(types=types))\n",
    "print('Complementation 2:', (x | ~x == True).evaluate(types=types))\n",
    "print('Double negation:', (~~x == x).evaluate(types=types))\n",
    "print('De Morgan 1:', (~x & ~y == ~(x | y)).evaluate(types=types))\n",
    "print('De Morgan 2:', (~x | ~y == ~(x & y)).evaluate(types=types))"
   ]
  },
  {
   "cell_type": "code",
   "execution_count": null,
   "metadata": {},
   "outputs": [],
   "source": []
  }
 ],
 "metadata": {
  "kernelspec": {
   "display_name": "Python 3",
   "language": "python",
   "name": "python3"
  },
  "language_info": {
   "codemirror_mode": {
    "name": "ipython",
    "version": 3
   },
   "file_extension": ".py",
   "mimetype": "text/x-python",
   "name": "python",
   "nbconvert_exporter": "python",
   "pygments_lexer": "ipython3",
   "version": "3.8.5"
  }
 },
 "nbformat": 4,
 "nbformat_minor": 4
}
